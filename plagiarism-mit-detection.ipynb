{
 "cells": [
  {
   "cell_type": "code",
   "execution_count": 1,
   "id": "driven-oliver",
   "metadata": {
    "_cell_guid": "b1076dfc-b9ad-4769-8c92-a6c4dae69d19",
    "_kg_hide-input": true,
    "_kg_hide-output": true,
    "_uuid": "8f2839f25d086af736a60e9eeb907d3b93b6e0e5",
    "execution": {
     "iopub.execute_input": "2021-05-07T02:10:24.631346Z",
     "iopub.status.busy": "2021-05-07T02:10:24.630654Z",
     "iopub.status.idle": "2021-05-07T02:10:25.527024Z",
     "shell.execute_reply": "2021-05-07T02:10:25.527908Z"
    },
    "papermill": {
     "duration": 0.939945,
     "end_time": "2021-05-07T02:10:25.528562",
     "exception": false,
     "start_time": "2021-05-07T02:10:24.588617",
     "status": "completed"
    },
    "tags": []
   },
   "outputs": [
    {
     "name": "stdout",
     "output_type": "stream",
     "text": [
      "/kaggle/input/mit-plagairism-detection-dataset/train_snli.txt\n"
     ]
    }
   ],
   "source": [
    "# This Python 3 environment comes with many helpful analytics libraries installed\n",
    "# It is defined by the kaggle/python Docker image: https://github.com/kaggle/docker-python\n",
    "# For example, here's several helpful packages to load\n",
    "\n",
    "import numpy as np # linear algebra\n",
    "import pandas as pd # data processing, CSV file I/O (e.g. pd.read_csv)\n",
    "import matplotlib.pyplot as plt\n",
    "import seaborn as sns\n",
    "\n",
    "# Input data files are available in the read-only \"../input/\" directory\n",
    "# For example, running this (by clicking run or pressing Shift+Enter) will list all files under the input directory\n",
    "\n",
    "import os\n",
    "for dirname, _, filenames in os.walk('/kaggle/input'):\n",
    "    for filename in filenames:\n",
    "        print(os.path.join(dirname, filename))\n",
    "\n",
    "# You can write up to 20GB to the current directory (/kaggle/working/) that gets preserved as output when you create a version using \"Save & Run All\" \n",
    "# You can also write temporary files to /kaggle/temp/, but they won't be saved outside of the current session"
   ]
  },
  {
   "cell_type": "code",
   "execution_count": null,
   "id": "ab791986-6033-4964-a5f3-cf381efd5714",
   "metadata": {},
   "outputs": [],
   "source": []
  },
  {
   "cell_type": "code",
   "execution_count": null,
   "id": "699d07a3-9dfc-437a-a8b9-9a5eb3eae265",
   "metadata": {},
   "outputs": [],
   "source": []
  },
  {
   "cell_type": "code",
   "execution_count": null,
   "id": "0f7b746e-e5d9-4d08-9009-b5c434aac77e",
   "metadata": {},
   "outputs": [],
   "source": []
  },
  {
   "cell_type": "code",
   "execution_count": null,
   "id": "42e19678-60f7-439d-806c-85360bc093c1",
   "metadata": {},
   "outputs": [],
   "source": []
  },
  {
   "cell_type": "code",
   "execution_count": null,
   "id": "75003d28-dfea-4cd6-843f-9cd0896b9100",
   "metadata": {},
   "outputs": [],
   "source": []
  },
  {
   "cell_type": "code",
   "execution_count": null,
   "id": "a16f8b39-b292-4f64-81a9-a9416001861b",
   "metadata": {},
   "outputs": [],
   "source": []
  },
  {
   "cell_type": "markdown",
   "id": "iraqi-membrane",
   "metadata": {
    "papermill": {
     "duration": 0.029535,
     "end_time": "2021-05-07T02:10:25.598348",
     "exception": false,
     "start_time": "2021-05-07T02:10:25.568813",
     "status": "completed"
    },
    "tags": []
   },
   "source": [
    "![](https://s3.amazonaws.com/libapps/accounts/72996/images/Infographic_Did-I-Plagiarize1.jpg)library.an.edu"
   ]
  },
  {
   "cell_type": "code",
   "execution_count": 2,
   "id": "experimental-toyota",
   "metadata": {
    "execution": {
     "iopub.execute_input": "2021-05-07T02:10:25.661559Z",
     "iopub.status.busy": "2021-05-07T02:10:25.660865Z",
     "iopub.status.idle": "2021-05-07T02:10:25.663916Z",
     "shell.execute_reply": "2021-05-07T02:10:25.663429Z"
    },
    "papermill": {
     "duration": 0.036331,
     "end_time": "2021-05-07T02:10:25.664051",
     "exception": false,
     "start_time": "2021-05-07T02:10:25.627720",
     "status": "completed"
    },
    "tags": []
   },
   "outputs": [],
   "source": [
    "from collections import Counter"
   ]
  },
  {
   "cell_type": "code",
   "execution_count": 3,
   "id": "scientific-excuse",
   "metadata": {
    "execution": {
     "iopub.execute_input": "2021-05-07T02:10:25.728943Z",
     "iopub.status.busy": "2021-05-07T02:10:25.728300Z",
     "iopub.status.idle": "2021-05-07T02:10:25.730241Z",
     "shell.execute_reply": "2021-05-07T02:10:25.730721Z"
    },
    "papermill": {
     "duration": 0.037254,
     "end_time": "2021-05-07T02:10:25.730892",
     "exception": false,
     "start_time": "2021-05-07T02:10:25.693638",
     "status": "completed"
    },
    "tags": []
   },
   "outputs": [],
   "source": [
    "#Codes by Jay Lee https://www.kaggle.com/jayaos/basic-nlp-preprocessing-of-corpus-and-zipf-s-law/notebook\n",
    "\n",
    "def read_docu(file):\n",
    "    \n",
    "    all_words = []\n",
    "    \n",
    "    with open(file, \"r\", encoding = \"utf-8\") as input_file:\n",
    "        for line in input_file:\n",
    "            line = line.lower()\n",
    "            line = line.strip().split()\n",
    "            all_words += line\n",
    "        return(all_words)"
   ]
  },
  {
   "cell_type": "code",
   "execution_count": 4,
   "id": "colored-austin",
   "metadata": {
    "execution": {
     "iopub.execute_input": "2021-05-07T02:10:25.793381Z",
     "iopub.status.busy": "2021-05-07T02:10:25.792721Z",
     "iopub.status.idle": "2021-05-07T02:10:25.797743Z",
     "shell.execute_reply": "2021-05-07T02:10:25.797213Z"
    },
    "papermill": {
     "duration": 0.037214,
     "end_time": "2021-05-07T02:10:25.797893",
     "exception": false,
     "start_time": "2021-05-07T02:10:25.760679",
     "status": "completed"
    },
    "tags": []
   },
   "outputs": [],
   "source": [
    "#Codes by Jay Lee https://www.kaggle.com/jayaos/basic-nlp-preprocessing-of-corpus-and-zipf-s-law/notebook\n",
    "\n",
    "def word_counter(all_words):\n",
    "    \n",
    "    word_count = Counter()\n",
    "    for word in all_words:\n",
    "        word_count[word] += 1\n",
    "    return(word_count.values())"
   ]
  },
  {
   "cell_type": "code",
   "execution_count": 5,
   "id": "approved-square",
   "metadata": {
    "execution": {
     "iopub.execute_input": "2021-05-07T02:10:25.863124Z",
     "iopub.status.busy": "2021-05-07T02:10:25.862506Z",
     "iopub.status.idle": "2021-05-07T02:10:25.864357Z",
     "shell.execute_reply": "2021-05-07T02:10:25.864853Z"
    },
    "papermill": {
     "duration": 0.037206,
     "end_time": "2021-05-07T02:10:25.865011",
     "exception": false,
     "start_time": "2021-05-07T02:10:25.827805",
     "status": "completed"
    },
    "tags": []
   },
   "outputs": [],
   "source": [
    "def draw_zipfian_curve(word_count):\n",
    "    plt.plot(sorted(word_count, reverse = True), marker = \"o\")\n",
    "    plt.xscale(\"log\")\n",
    "    plt.yscale(\"log\")\n",
    "    plt.xlabel(\"log(Rank)\")\n",
    "    plt.ylabel(\"log(Frequency)\")\n",
    "    plt.show()"
   ]
  },
  {
   "cell_type": "code",
   "execution_count": 6,
   "id": "emotional-thirty",
   "metadata": {
    "execution": {
     "iopub.execute_input": "2021-05-07T02:10:25.927648Z",
     "iopub.status.busy": "2021-05-07T02:10:25.926992Z",
     "iopub.status.idle": "2021-05-07T02:10:25.930936Z",
     "shell.execute_reply": "2021-05-07T02:10:25.931480Z"
    },
    "papermill": {
     "duration": 0.036815,
     "end_time": "2021-05-07T02:10:25.931652",
     "exception": false,
     "start_time": "2021-05-07T02:10:25.894837",
     "status": "completed"
    },
    "tags": []
   },
   "outputs": [],
   "source": [
    "#Codes by Jay Lee https://www.kaggle.com/jayaos/basic-nlp-preprocessing-of-corpus-and-zipf-s-law/notebook\n",
    "\n",
    "def zipfian_plot(file):\n",
    "    word_corpus = read_docu(file)\n",
    "    counts = word_counter(word_corpus)\n",
    "    draw_zipfian_curve(counts)"
   ]
  },
  {
   "cell_type": "code",
   "execution_count": 7,
   "id": "imperial-constitution",
   "metadata": {
    "execution": {
     "iopub.execute_input": "2021-05-07T02:10:25.994806Z",
     "iopub.status.busy": "2021-05-07T02:10:25.994191Z",
     "iopub.status.idle": "2021-05-07T02:10:31.104462Z",
     "shell.execute_reply": "2021-05-07T02:10:31.103873Z"
    },
    "papermill": {
     "duration": 5.143017,
     "end_time": "2021-05-07T02:10:31.104607",
     "exception": false,
     "start_time": "2021-05-07T02:10:25.961590",
     "status": "completed"
    },
    "tags": []
   },
   "outputs": [
    {
     "data": {
      "image/png": "[encoded data removed]",
      "text/plain": [
       "<Figure size 432x288 with 1 Axes>"
      ]
     },
     "metadata": {
      "needs_background": "light"
     },
     "output_type": "display_data"
    }
   ],
   "source": [
    "zipfian_plot(\"../input/mit-plagairism-detection-dataset/train_snli.txt\")"
   ]
  },
  {
   "cell_type": "code",
   "execution_count": 8,
   "id": "comic-robertson",
   "metadata": {
    "execution": {
     "iopub.execute_input": "2021-05-07T02:10:31.174202Z",
     "iopub.status.busy": "2021-05-07T02:10:31.173108Z",
     "iopub.status.idle": "2021-05-07T02:10:31.866925Z",
     "shell.execute_reply": "2021-05-07T02:10:31.866274Z"
    },
    "papermill": {
     "duration": 0.730558,
     "end_time": "2021-05-07T02:10:31.867072",
     "exception": false,
     "start_time": "2021-05-07T02:10:31.136514",
     "status": "completed"
    },
    "tags": []
   },
   "outputs": [
    {
     "data": {
      "text/html": [
       "<div>\n",
       "<style scoped>\n",
       "    .dataframe tbody tr th:only-of-type {\n",
       "        vertical-align: middle;\n",
       "    }\n",
       "\n",
       "    .dataframe tbody tr th {\n",
       "        vertical-align: top;\n",
       "    }\n",
       "\n",
       "    .dataframe thead th {\n",
       "        text-align: right;\n",
       "    }\n",
       "</style>\n",
       "<table border=\"1\" class=\"dataframe\">\n",
       "  <thead>\n",
       "    <tr style=\"text-align: right;\">\n",
       "      <th></th>\n",
       "      <th>A person on a horse jumps over a broken down airplane.</th>\n",
       "      <th>A person is at a diner, ordering an omelette.</th>\n",
       "      <th>0</th>\n",
       "    </tr>\n",
       "  </thead>\n",
       "  <tbody>\n",
       "    <tr>\n",
       "      <th>0</th>\n",
       "      <td>A person on a horse jumps over a broken down a...</td>\n",
       "      <td>A person is outdoors, on a horse.</td>\n",
       "      <td>1</td>\n",
       "    </tr>\n",
       "    <tr>\n",
       "      <th>1</th>\n",
       "      <td>Children smiling and waving at camera</td>\n",
       "      <td>There are children present</td>\n",
       "      <td>1</td>\n",
       "    </tr>\n",
       "    <tr>\n",
       "      <th>2</th>\n",
       "      <td>Children smiling and waving at camera</td>\n",
       "      <td>The kids are frowning</td>\n",
       "      <td>0</td>\n",
       "    </tr>\n",
       "    <tr>\n",
       "      <th>3</th>\n",
       "      <td>A boy is jumping on skateboard in the middle o...</td>\n",
       "      <td>The boy skates down the sidewalk.</td>\n",
       "      <td>0</td>\n",
       "    </tr>\n",
       "    <tr>\n",
       "      <th>4</th>\n",
       "      <td>A boy is jumping on skateboard in the middle o...</td>\n",
       "      <td>The boy does a skateboarding trick.</td>\n",
       "      <td>1</td>\n",
       "    </tr>\n",
       "  </tbody>\n",
       "</table>\n",
       "</div>"
      ],
      "text/plain": [
       "  A person on a horse jumps over a broken down airplane.  \\\n",
       "0  A person on a horse jumps over a broken down a...       \n",
       "1              Children smiling and waving at camera       \n",
       "2              Children smiling and waving at camera       \n",
       "3  A boy is jumping on skateboard in the middle o...       \n",
       "4  A boy is jumping on skateboard in the middle o...       \n",
       "\n",
       "  A person is at a diner, ordering an omelette.  0  \n",
       "0             A person is outdoors, on a horse.  1  \n",
       "1                    There are children present  1  \n",
       "2                         The kids are frowning  0  \n",
       "3             The boy skates down the sidewalk.  0  \n",
       "4           The boy does a skateboarding trick.  1  "
      ]
     },
     "execution_count": 8,
     "metadata": {},
     "output_type": "execute_result"
    }
   ],
   "source": [
    "df= pd.read_csv('../input/mit-plagairism-detection-dataset/train_snli.txt', sep='\\t', error_bad_lines=False)\n",
    "df.head()"
   ]
  },
  {
   "cell_type": "code",
   "execution_count": 9,
   "id": "mineral-sequence",
   "metadata": {
    "execution": {
     "iopub.execute_input": "2021-05-07T02:10:32.002875Z",
     "iopub.status.busy": "2021-05-07T02:10:32.002135Z",
     "iopub.status.idle": "2021-05-07T02:10:32.010694Z",
     "shell.execute_reply": "2021-05-07T02:10:32.010109Z"
    },
    "papermill": {
     "duration": 0.111908,
     "end_time": "2021-05-07T02:10:32.010840",
     "exception": false,
     "start_time": "2021-05-07T02:10:31.898932",
     "status": "completed"
    },
    "tags": []
   },
   "outputs": [
    {
     "data": {
      "text/plain": [
       "A person on a horse jumps over a broken down airplane.    0\n",
       "A person is at a diner, ordering an omelette.             4\n",
       "0                                                         0\n",
       "dtype: int64"
      ]
     },
     "execution_count": 9,
     "metadata": {},
     "output_type": "execute_result"
    }
   ],
   "source": [
    "df.isnull().sum()"
   ]
  },
  {
   "cell_type": "markdown",
   "id": "dominican-seven",
   "metadata": {
    "papermill": {
     "duration": 0.032167,
     "end_time": "2021-05-07T02:10:32.076387",
     "exception": false,
     "start_time": "2021-05-07T02:10:32.044220",
     "status": "completed"
    },
    "tags": []
   },
   "source": [
    "#Basic Text Mining Methods"
   ]
  },
  {
   "cell_type": "markdown",
   "id": "thousand-escape",
   "metadata": {
    "papermill": {
     "duration": 0.032472,
     "end_time": "2021-05-07T02:10:32.141668",
     "exception": false,
     "start_time": "2021-05-07T02:10:32.109196",
     "status": "completed"
    },
    "tags": []
   },
   "source": [
    "#Code by Datai https://www.kaggle.com/kanncaa1/applying-text-mining"
   ]
  },
  {
   "cell_type": "code",
   "execution_count": 10,
   "id": "musical-delta",
   "metadata": {
    "execution": {
     "iopub.execute_input": "2021-05-07T02:10:32.212147Z",
     "iopub.status.busy": "2021-05-07T02:10:32.211519Z",
     "iopub.status.idle": "2021-05-07T02:10:32.215116Z",
     "shell.execute_reply": "2021-05-07T02:10:32.214525Z"
    },
    "papermill": {
     "duration": 0.041413,
     "end_time": "2021-05-07T02:10:32.215247",
     "exception": false,
     "start_time": "2021-05-07T02:10:32.173834",
     "status": "completed"
    },
    "tags": []
   },
   "outputs": [
    {
     "name": "stdout",
     "output_type": "stream",
     "text": [
      "length of text:  39\n",
      "Splitted text:  ['Two', 'blond', 'women', 'are', 'hugging', 'one', 'another']\n"
     ]
    }
   ],
   "source": [
    "#Code by Datai https://www.kaggle.com/kanncaa1/applying-text-mining\n",
    "\n",
    "# lets create a text\n",
    "text = \"Two blond women are hugging one another\"\n",
    "\n",
    "# length of text ( includes spaces)\n",
    "print(\"length of text: \",len(text))\n",
    "\n",
    "# split the text\n",
    "splitted_text = text.split() # default split methods splits text according to spaces\n",
    "print(\"Splitted text: \",splitted_text)    # splitted_text is a list that includes words of text sentence\n",
    "# each word is called token in text maning world."
   ]
  },
  {
   "cell_type": "markdown",
   "id": "imposed-annotation",
   "metadata": {
    "papermill": {
     "duration": 0.032045,
     "end_time": "2021-05-07T02:10:32.279589",
     "exception": false,
     "start_time": "2021-05-07T02:10:32.247544",
     "status": "completed"
    },
    "tags": []
   },
   "source": [
    "#One blond and one brunette hugging\n",
    "\n",
    "![](https://media3.giphy.com/media/3o7TKu8D1d12Eo9wSQ/200.webp?cid=ecf05e47kvwtv10cwpvgpqc7bp8lzplbypvzsvdop4b3aoor&rid=200.webp&ct=g)"
   ]
  },
  {
   "cell_type": "code",
   "execution_count": 11,
   "id": "based-checklist",
   "metadata": {
    "execution": {
     "iopub.execute_input": "2021-05-07T02:10:32.351718Z",
     "iopub.status.busy": "2021-05-07T02:10:32.350717Z",
     "iopub.status.idle": "2021-05-07T02:10:32.355346Z",
     "shell.execute_reply": "2021-05-07T02:10:32.355785Z"
    },
    "papermill": {
     "duration": 0.043964,
     "end_time": "2021-05-07T02:10:32.355949",
     "exception": false,
     "start_time": "2021-05-07T02:10:32.311985",
     "status": "completed"
    },
    "tags": []
   },
   "outputs": [
    {
     "name": "stdout",
     "output_type": "stream",
     "text": [
      "Words which are more than 3 letter:  ['Two', 'blond', 'women', 'are', 'hugging', 'one', 'another']\n",
      "Capitalized words:  ['Two']\n",
      "words end with o:  ['Two']\n",
      "words start with w:  ['women']\n"
     ]
    }
   ],
   "source": [
    "#Code by Datai https://www.kaggle.com/kanncaa1/applying-text-mining\n",
    "\n",
    "# find specific words with list comprehension method\n",
    "specific_words = [word for word in splitted_text if(len(word)>2)]\n",
    "print(\"Words which are more than 3 letter: \",specific_words)\n",
    "\n",
    "# capitalized words with istitle() method that finds capitalized words\n",
    "capital_words = [ word for word in splitted_text if word.istitle()]\n",
    "print(\"Capitalized words: \",capital_words)\n",
    "\n",
    "# words which end with \"o\": endswith() method finds last letter of word\n",
    "words_end_with_o =  [word for word in splitted_text if word.endswith(\"o\")]\n",
    "print(\"words end with o: \",words_end_with_o) \n",
    "\n",
    "# words which starts with \"w\": startswith() method\n",
    "words_start_with_w = [word for word in splitted_text if word.startswith(\"w\")]\n",
    "print(\"words start with w: \",words_start_with_w) "
   ]
  },
  {
   "cell_type": "code",
   "execution_count": 12,
   "id": "younger-fitting",
   "metadata": {
    "execution": {
     "iopub.execute_input": "2021-05-07T02:10:32.427463Z",
     "iopub.status.busy": "2021-05-07T02:10:32.426768Z",
     "iopub.status.idle": "2021-05-07T02:10:32.430335Z",
     "shell.execute_reply": "2021-05-07T02:10:32.430873Z"
    },
    "papermill": {
     "duration": 0.042361,
     "end_time": "2021-05-07T02:10:32.431040",
     "exception": false,
     "start_time": "2021-05-07T02:10:32.388679",
     "status": "completed"
    },
    "tags": []
   },
   "outputs": [
    {
     "name": "stdout",
     "output_type": "stream",
     "text": [
      "unique words:  {'blond', 'another', 'women', 'hugging', 'one', 'are', 'Two'}\n",
      "unique words:  {'blond', 'another', 'two', 'women', 'hugging', 'one', 'are'}\n"
     ]
    }
   ],
   "source": [
    "#Code by Datai https://www.kaggle.com/kanncaa1/applying-text-mining\n",
    "\n",
    "# unique with set() method\n",
    "print(\"unique words: \",set(splitted_text))  # actually the word \"no\" is occured twice bc one word is \"no\" and others \"No\" there is a capital letter at first letter\n",
    "\n",
    "# make all letters lowercase with lower() method\n",
    "lowercase_text = [word.lower() for word in splitted_text]\n",
    "\n",
    "# then find uniques again with set() method\n",
    "print(\"unique words: \",set(lowercase_text))"
   ]
  },
  {
   "cell_type": "code",
   "execution_count": 13,
   "id": "abandoned-offer",
   "metadata": {
    "execution": {
     "iopub.execute_input": "2021-05-07T02:10:32.505655Z",
     "iopub.status.busy": "2021-05-07T02:10:32.504640Z",
     "iopub.status.idle": "2021-05-07T02:10:32.511178Z",
     "shell.execute_reply": "2021-05-07T02:10:32.510653Z"
    },
    "papermill": {
     "duration": 0.046423,
     "end_time": "2021-05-07T02:10:32.511325",
     "exception": false,
     "start_time": "2021-05-07T02:10:32.464902",
     "status": "completed"
    },
    "tags": []
   },
   "outputs": [
    {
     "name": "stdout",
     "output_type": "stream",
     "text": [
      "Is w letter in women word: True\n",
      "Is word uppercase: True\n",
      "Is word lowercase: True\n",
      "Is word made of by digits:  True\n",
      "00000000Two blond:  Two blond\n",
      "Find particular letter from back:  10\n",
      "Find particular letter from back:  10\n",
      "Replace o with 4  one anothe4\n",
      "Each letter:  ['T', 'w', 'o', ' ', 'b', 'l', 'o', 'n', 'd']\n"
     ]
    }
   ],
   "source": [
    "#Code by Datai https://www.kaggle.com/kanncaa1/applying-text-mining\n",
    "\n",
    "# check words includes or not includes particular substring or letter\n",
    "print(\"Is w letter in women word:\", \"w\" in \"women\")\n",
    "\n",
    "# check words are upper case or lower case\n",
    "print(\"Is word uppercase:\", \"WOMEN\".isupper())\n",
    "print(\"Is word lowercase:\", \"hugging\".islower())\n",
    "\n",
    "# check words are made of by digits or not\n",
    "print(\"Is word made of by digits: \",\"12345\".isdigit())\n",
    "\n",
    "# get rid of from white space characters like spaces and tabs or from unwanted letters with strip() method\n",
    "print(\"00000000Two blond: \",\"00000000Two blond\".strip(\"0\"))\n",
    "\n",
    "# find particular letter from front \n",
    "print(\"Find particular letter from back: \",\"one another\".find(\"r\"))  # at index 1\n",
    "\n",
    "# find particular letter from back  rfind = reverse find\n",
    "print(\"Find particular letter from back: \",\"one another\".rfind(\"r\"))  # at index 8\n",
    "\n",
    "# replace letter with number\n",
    "print(\"Replace o with 4 \", \"one another\".replace(\"r\",\"4\"))\n",
    "\n",
    "# find each letter and store them in list\n",
    "print(\"Each letter: \",list(\"Two blond\"))"
   ]
  },
  {
   "cell_type": "code",
   "execution_count": 14,
   "id": "regulation-murder",
   "metadata": {
    "execution": {
     "iopub.execute_input": "2021-05-07T02:10:32.584376Z",
     "iopub.status.busy": "2021-05-07T02:10:32.583730Z",
     "iopub.status.idle": "2021-05-07T02:10:32.587879Z",
     "shell.execute_reply": "2021-05-07T02:10:32.588320Z"
    },
    "papermill": {
     "duration": 0.043183,
     "end_time": "2021-05-07T02:10:32.588487",
     "exception": false,
     "start_time": "2021-05-07T02:10:32.545304",
     "status": "completed"
    },
    "tags": []
   },
   "outputs": [
    {
     "name": "stdout",
     "output_type": "stream",
     "text": [
      "Split text:  ['', '', '', '', 'The', 'kids', 'are', 'frowning', '', '', '', '']\n",
      "Cleaned text:  ['The', 'kids', 'are', 'frowning']\n"
     ]
    }
   ],
   "source": [
    "# Cleaning text\n",
    "text1 = \"    The kids are frowning    \"\n",
    "print(\"Split text: \",text1.split(\" \"))   # as you can see there are unnecessary white space in list\n",
    "\n",
    "# get rid of from these unnecassary white spaces with strip() method then split\n",
    "print(\"Cleaned text: \",text1.strip().split(\" \"))"
   ]
  },
  {
   "cell_type": "markdown",
   "id": "selected-image",
   "metadata": {
    "papermill": {
     "duration": 0.033757,
     "end_time": "2021-05-07T02:10:32.656217",
     "exception": false,
     "start_time": "2021-05-07T02:10:32.622460",
     "status": "completed"
    },
    "tags": []
   },
   "source": [
    "#The kids are frowning"
   ]
  },
  {
   "cell_type": "markdown",
   "id": "theoretical-advancement",
   "metadata": {
    "papermill": {
     "duration": 0.033927,
     "end_time": "2021-05-07T02:10:32.724150",
     "exception": false,
     "start_time": "2021-05-07T02:10:32.690223",
     "status": "completed"
    },
    "tags": []
   },
   "source": [
    "![](https://encrypted-tbn0.gstatic.com/images?q=tbn:ANd9GcRDA0-IIN22I8dAyOi2MYdRitGCHvfuP3vqMg&usqp=CAU)bckonline.com"
   ]
  },
  {
   "cell_type": "markdown",
   "id": "vocal-paint",
   "metadata": {
    "papermill": {
     "duration": 0.03466,
     "end_time": "2021-05-07T02:10:32.793151",
     "exception": false,
     "start_time": "2021-05-07T02:10:32.758491",
     "status": "completed"
    },
    "tags": []
   },
   "source": [
    "![](https://encrypted-tbn0.gstatic.com/images?q=tbn:ANd9GcQMbo8VhVRJMVkL2po2vlSazhRqaunWvN7k1A&usqp=CAU)dogtrainingobedienceschool.com"
   ]
  },
  {
   "cell_type": "markdown",
   "id": "democratic-motel",
   "metadata": {
    "papermill": {
     "duration": 0.033707,
     "end_time": "2021-05-07T02:10:32.860863",
     "exception": false,
     "start_time": "2021-05-07T02:10:32.827156",
     "status": "completed"
    },
    "tags": []
   },
   "source": [
    "![](https://encrypted-tbn0.gstatic.com/images?q=tbn:ANd9GcSxBSFCHC_lNgrpUOTgk5kOZU4QSsKALegXGQ&usqp=CAU)memecreator.org"
   ]
  },
  {
   "cell_type": "code",
   "execution_count": 15,
   "id": "dietary-array",
   "metadata": {
    "execution": {
     "iopub.execute_input": "2021-05-07T02:10:32.935077Z",
     "iopub.status.busy": "2021-05-07T02:10:32.933940Z",
     "iopub.status.idle": "2021-05-07T02:10:33.113818Z",
     "shell.execute_reply": "2021-05-07T02:10:33.112764Z"
    },
    "papermill": {
     "duration": 0.218991,
     "end_time": "2021-05-07T02:10:33.114026",
     "exception": false,
     "start_time": "2021-05-07T02:10:32.895035",
     "status": "completed"
    },
    "tags": []
   },
   "outputs": [
    {
     "name": "stdout",
     "output_type": "stream",
     "text": [
      "A person on a horse jumps over a broken down airplane.\tA person is at a diner, ordering an omelette.\t0\n",
      "\n",
      "Length of text:  38743027\n",
      "Number of lines:  367372\n"
     ]
    }
   ],
   "source": [
    "#Code by Datai https://www.kaggle.com/kanncaa1/applying-text-mining\n",
    "\n",
    "# reading files line by line\n",
    "f = open(\"../input/mit-plagairism-detection-dataset/train_snli.txt\",\"r\")\n",
    "\n",
    "# read first line\n",
    "print(f.readline())\n",
    "\n",
    "# length of text\n",
    "text3=f.read()\n",
    "print(\"Length of text: \",len(text3))\n",
    "\n",
    "# Number of lines with splitlines() method\n",
    "lines = text3.splitlines()\n",
    "print(\"Number of lines: \",len(lines))"
   ]
  },
  {
   "cell_type": "code",
   "execution_count": 16,
   "id": "trained-consultation",
   "metadata": {
    "execution": {
     "iopub.execute_input": "2021-05-07T02:10:33.190646Z",
     "iopub.status.busy": "2021-05-07T02:10:33.189965Z",
     "iopub.status.idle": "2021-05-07T02:10:33.210476Z",
     "shell.execute_reply": "2021-05-07T02:10:33.209906Z"
    },
    "papermill": {
     "duration": 0.060293,
     "end_time": "2021-05-07T02:10:33.210616",
     "exception": false,
     "start_time": "2021-05-07T02:10:33.150323",
     "status": "completed"
    },
    "tags": []
   },
   "outputs": [],
   "source": [
    "df = df.rename(columns={'A person on a horse jumps over a broken down airplane.':'person', 'A person is at a diner, ordering an omelette.': 'omelette'})"
   ]
  },
  {
   "cell_type": "code",
   "execution_count": 17,
   "id": "alive-anatomy",
   "metadata": {
    "execution": {
     "iopub.execute_input": "2021-05-07T02:10:33.283671Z",
     "iopub.status.busy": "2021-05-07T02:10:33.283030Z",
     "iopub.status.idle": "2021-05-07T02:10:33.292135Z",
     "shell.execute_reply": "2021-05-07T02:10:33.292667Z"
    },
    "papermill": {
     "duration": 0.046922,
     "end_time": "2021-05-07T02:10:33.292846",
     "exception": false,
     "start_time": "2021-05-07T02:10:33.245924",
     "status": "completed"
    },
    "tags": []
   },
   "outputs": [
    {
     "data": {
      "text/html": [
       "<div>\n",
       "<style scoped>\n",
       "    .dataframe tbody tr th:only-of-type {\n",
       "        vertical-align: middle;\n",
       "    }\n",
       "\n",
       "    .dataframe tbody tr th {\n",
       "        vertical-align: top;\n",
       "    }\n",
       "\n",
       "    .dataframe thead th {\n",
       "        text-align: right;\n",
       "    }\n",
       "</style>\n",
       "<table border=\"1\" class=\"dataframe\">\n",
       "  <thead>\n",
       "    <tr style=\"text-align: right;\">\n",
       "      <th></th>\n",
       "      <th>person</th>\n",
       "      <th>omelette</th>\n",
       "      <th>0</th>\n",
       "    </tr>\n",
       "  </thead>\n",
       "  <tbody>\n",
       "    <tr>\n",
       "      <th>0</th>\n",
       "      <td>A person on a horse jumps over a broken down a...</td>\n",
       "      <td>A person is outdoors, on a horse.</td>\n",
       "      <td>1</td>\n",
       "    </tr>\n",
       "    <tr>\n",
       "      <th>1</th>\n",
       "      <td>Children smiling and waving at camera</td>\n",
       "      <td>There are children present</td>\n",
       "      <td>1</td>\n",
       "    </tr>\n",
       "    <tr>\n",
       "      <th>2</th>\n",
       "      <td>Children smiling and waving at camera</td>\n",
       "      <td>The kids are frowning</td>\n",
       "      <td>0</td>\n",
       "    </tr>\n",
       "    <tr>\n",
       "      <th>3</th>\n",
       "      <td>A boy is jumping on skateboard in the middle o...</td>\n",
       "      <td>The boy skates down the sidewalk.</td>\n",
       "      <td>0</td>\n",
       "    </tr>\n",
       "    <tr>\n",
       "      <th>4</th>\n",
       "      <td>A boy is jumping on skateboard in the middle o...</td>\n",
       "      <td>The boy does a skateboarding trick.</td>\n",
       "      <td>1</td>\n",
       "    </tr>\n",
       "  </tbody>\n",
       "</table>\n",
       "</div>"
      ],
      "text/plain": [
       "                                              person  \\\n",
       "0  A person on a horse jumps over a broken down a...   \n",
       "1              Children smiling and waving at camera   \n",
       "2              Children smiling and waving at camera   \n",
       "3  A boy is jumping on skateboard in the middle o...   \n",
       "4  A boy is jumping on skateboard in the middle o...   \n",
       "\n",
       "                              omelette  0  \n",
       "0    A person is outdoors, on a horse.  1  \n",
       "1           There are children present  1  \n",
       "2                The kids are frowning  0  \n",
       "3    The boy skates down the sidewalk.  0  \n",
       "4  The boy does a skateboarding trick.  1  "
      ]
     },
     "execution_count": 17,
     "metadata": {},
     "output_type": "execute_result"
    }
   ],
   "source": [
    "df.head()"
   ]
  },
  {
   "cell_type": "code",
   "execution_count": 18,
   "id": "swedish-alliance",
   "metadata": {
    "execution": {
     "iopub.execute_input": "2021-05-07T02:10:33.366352Z",
     "iopub.status.busy": "2021-05-07T02:10:33.365696Z",
     "iopub.status.idle": "2021-05-07T02:10:33.665310Z",
     "shell.execute_reply": "2021-05-07T02:10:33.664679Z"
    },
    "papermill": {
     "duration": 0.337496,
     "end_time": "2021-05-07T02:10:33.665448",
     "exception": false,
     "start_time": "2021-05-07T02:10:33.327952",
     "status": "completed"
    },
    "tags": []
   },
   "outputs": [
    {
     "name": "stdout",
     "output_type": "stream",
     "text": [
      "In this text, the rate of occuring boy word is:  0.07259943599403329\n",
      "Children smiling and waving at camera\n"
     ]
    }
   ],
   "source": [
    "# find which entries contain the word 'appointment'\n",
    "print(\"In this text, the rate of occuring boy word is: \",sum(df.person.str.contains('boy'))/len(df))\n",
    "# text\n",
    "text = df.person[1]\n",
    "print(text)"
   ]
  },
  {
   "cell_type": "code",
   "execution_count": 19,
   "id": "virgin-collins",
   "metadata": {
    "execution": {
     "iopub.execute_input": "2021-05-07T02:10:33.742906Z",
     "iopub.status.busy": "2021-05-07T02:10:33.742241Z",
     "iopub.status.idle": "2021-05-07T02:10:33.745718Z",
     "shell.execute_reply": "2021-05-07T02:10:33.745098Z"
    },
    "papermill": {
     "duration": 0.045029,
     "end_time": "2021-05-07T02:10:33.745851",
     "exception": false,
     "start_time": "2021-05-07T02:10:33.700822",
     "status": "completed"
    },
    "tags": []
   },
   "outputs": [
    {
     "name": "stdout",
     "output_type": "stream",
     "text": [
      "callouts:  []\n"
     ]
    }
   ],
   "source": [
    "#I´m saving that snippet since there is No callout that started with @.  \n",
    "\n",
    "# find regular expression on text\n",
    "# import regular expression package\n",
    "import re\n",
    "# find callouts that starts with @\n",
    "callouts = [word for word in text.split(\" \") if re.search(\"@[A-Za-z0-9_]+\",word)]\n",
    "print(\"callouts: \",callouts)"
   ]
  },
  {
   "cell_type": "code",
   "execution_count": 20,
   "id": "characteristic-ancient",
   "metadata": {
    "execution": {
     "iopub.execute_input": "2021-05-07T02:10:33.824093Z",
     "iopub.status.busy": "2021-05-07T02:10:33.823312Z",
     "iopub.status.idle": "2021-05-07T02:10:33.827111Z",
     "shell.execute_reply": "2021-05-07T02:10:33.826384Z"
    },
    "papermill": {
     "duration": 0.045206,
     "end_time": "2021-05-07T02:10:33.827308",
     "exception": false,
     "start_time": "2021-05-07T02:10:33.782102",
     "status": "completed"
    },
    "tags": []
   },
   "outputs": [
    {
     "name": "stdout",
     "output_type": "stream",
     "text": [
      "['w']\n",
      "['C', 'h', 'i', 'l', 'd', 'r', 'e', 'n', ' ', 's', 'm', 'i', 'l', 'i', 'n', 'g', ' ', 'a', 'n', 'd', ' ', 'a', 'v', 'i', 'n', 'g', ' ', 'a', 't', ' ', 'c', 'a', 'm', 'e', 'r', 'a']\n"
     ]
    }
   ],
   "source": [
    "#Code by Datai https://www.kaggle.com/kanncaa1/applying-text-mining\n",
    "\n",
    "# find specific characters like \"w\"\n",
    "print(re.findall(r\"[w]\",text))\n",
    "# \"w\"ith, \"w\"indo\"w\", sho\"w\"ing, s\"w\"itches \n",
    "\n",
    "# do not find specific character like \"w\". We will use \"^\" symbol\n",
    "print(re.findall(r\"[^w]\",text))"
   ]
  },
  {
   "cell_type": "code",
   "execution_count": 21,
   "id": "patient-digit",
   "metadata": {
    "execution": {
     "iopub.execute_input": "2021-05-07T02:10:33.905858Z",
     "iopub.status.busy": "2021-05-07T02:10:33.905243Z",
     "iopub.status.idle": "2021-05-07T02:10:33.907695Z",
     "shell.execute_reply": "2021-05-07T02:10:33.908150Z"
    },
    "papermill": {
     "duration": 0.043204,
     "end_time": "2021-05-07T02:10:33.908330",
     "exception": false,
     "start_time": "2021-05-07T02:10:33.865126",
     "status": "completed"
    },
    "tags": []
   },
   "outputs": [],
   "source": [
    "# Regular expressions for Dates\n",
    "#date = \"15-10-2000\\n09/10/2005\\n15-05-1999\\n05/05/99\\n\\n05/05/199\\n\\n05/05/9\"\n",
    "#re.findall(r\"\\d{1,2}[/-]\\d{1,2}[/-]\\d{1,4}\",date)"
   ]
  },
  {
   "cell_type": "markdown",
   "id": "thorough-entry",
   "metadata": {
    "papermill": {
     "duration": 0.036256,
     "end_time": "2021-05-07T02:10:33.981636",
     "exception": false,
     "start_time": "2021-05-07T02:10:33.945380",
     "status": "completed"
    },
    "tags": []
   },
   "source": [
    "#Natural Language Process (NLP)"
   ]
  },
  {
   "cell_type": "code",
   "execution_count": 22,
   "id": "logical-broad",
   "metadata": {
    "execution": {
     "iopub.execute_input": "2021-05-07T02:10:34.062141Z",
     "iopub.status.busy": "2021-05-07T02:10:34.061255Z",
     "iopub.status.idle": "2021-05-07T02:10:34.862871Z",
     "shell.execute_reply": "2021-05-07T02:10:34.863839Z"
    },
    "papermill": {
     "duration": 0.846133,
     "end_time": "2021-05-07T02:10:34.864112",
     "exception": false,
     "start_time": "2021-05-07T02:10:34.017979",
     "status": "completed"
    },
    "tags": []
   },
   "outputs": [
    {
     "name": "stdout",
     "output_type": "stream",
     "text": [
      "number of words:  6\n",
      "number of unique words:  6\n",
      "first 5 unique words:  ['at', 'smiling', 'Children', 'and', 'camera']\n",
      "frequency of words:  <FreqDist with 6 samples and 6 outcomes>\n",
      "words in person:  dict_keys(['Children', 'smiling', 'and', 'waving', 'at', 'camera'])\n",
      "the word box is occured how many times: 0\n"
     ]
    }
   ],
   "source": [
    "#Code by Datai https://www.kaggle.com/kanncaa1/applying-text-mining\n",
    "\n",
    "# import natural language tool kit\n",
    "import nltk as nlp\n",
    "\n",
    "# counting vocabulary of words\n",
    "text = df.person[1]\n",
    "splitted = text.split(\" \")\n",
    "print(\"number of words: \",len(splitted))\n",
    "\n",
    "# counting unique vocabulary of words\n",
    "text = df.person[1]\n",
    "print(\"number of unique words: \",len(set(splitted)))\n",
    "\n",
    "# print first five unique words\n",
    "print(\"first 5 unique words: \",list(set(splitted))[:5])\n",
    "\n",
    "# frequency of words \n",
    "dist = nlp.FreqDist(splitted)\n",
    "print(\"frequency of words: \",dist)\n",
    "\n",
    "# look at keys in dist\n",
    "print(\"words in person: \",dist.keys())\n",
    "\n",
    "# count how many time a particalar value occurs. Lets look at \"box\"\n",
    "print(\"the word box is occured how many times:\",dist[\"box\"])"
   ]
  },
  {
   "cell_type": "markdown",
   "id": "residential-spirituality",
   "metadata": {
    "papermill": {
     "duration": 0.037104,
     "end_time": "2021-05-07T02:10:34.939359",
     "exception": false,
     "start_time": "2021-05-07T02:10:34.902255",
     "status": "completed"
    },
    "tags": []
   },
   "source": [
    "#Normalization and Stemming words\n",
    "\n",
    "Normalization is different forms of the same word like have and having.\n",
    "\n",
    "Stemming is finding a root of the words like having => have."
   ]
  },
  {
   "cell_type": "code",
   "execution_count": 23,
   "id": "living-attitude",
   "metadata": {
    "execution": {
     "iopub.execute_input": "2021-05-07T02:10:35.022504Z",
     "iopub.status.busy": "2021-05-07T02:10:35.021623Z",
     "iopub.status.idle": "2021-05-07T02:10:35.025735Z",
     "shell.execute_reply": "2021-05-07T02:10:35.026425Z"
    },
    "papermill": {
     "duration": 0.050028,
     "end_time": "2021-05-07T02:10:35.026648",
     "exception": false,
     "start_time": "2021-05-07T02:10:34.976620",
     "status": "completed"
    },
    "tags": []
   },
   "outputs": [
    {
     "name": "stdout",
     "output_type": "stream",
     "text": [
      "normalized words:  ['task', 'tasked', 'tasks', 'tasking']\n",
      "roots of task Tasked tasks tasking:  ['task', 'task', 'task', 'task']\n"
     ]
    }
   ],
   "source": [
    "#Code by Datai https://www.kaggle.com/kanncaa1/applying-text-mining\n",
    "\n",
    "# normalization\n",
    "words = \"task Tasked tasks tasking\"\n",
    "words_list = words.lower().split(\" \")\n",
    "print(\"normalized words: \",words_list)\n",
    "\n",
    "# stemming\n",
    "porter_stemmer = nlp.PorterStemmer()\n",
    "roots = [porter_stemmer.stem(each) for each in words_list]\n",
    "print(\"roots of task Tasked tasks tasking: \",roots)"
   ]
  },
  {
   "cell_type": "markdown",
   "id": "spoken-tampa",
   "metadata": {
    "papermill": {
     "duration": 0.03799,
     "end_time": "2021-05-07T02:10:35.103388",
     "exception": false,
     "start_time": "2021-05-07T02:10:35.065398",
     "status": "completed"
    },
    "tags": []
   },
   "source": [
    "#Lemmatization"
   ]
  },
  {
   "cell_type": "code",
   "execution_count": 24,
   "id": "eleven-quality",
   "metadata": {
    "execution": {
     "iopub.execute_input": "2021-05-07T02:10:35.187193Z",
     "iopub.status.busy": "2021-05-07T02:10:35.186393Z",
     "iopub.status.idle": "2021-05-07T02:10:37.592109Z",
     "shell.execute_reply": "2021-05-07T02:10:37.591133Z"
    },
    "papermill": {
     "duration": 2.451171,
     "end_time": "2021-05-07T02:10:37.592261",
     "exception": false,
     "start_time": "2021-05-07T02:10:35.141090",
     "status": "completed"
    },
    "tags": []
   },
   "outputs": [
    {
     "name": "stdout",
     "output_type": "stream",
     "text": [
      "result of stemming:  ['basebal', 'airplan', 'restaur', 'drink', 'outdoor']\n",
      "result of lemmatization:  ['baseball', 'airplane', 'restaurant', 'drinking', 'outdoors']\n"
     ]
    }
   ],
   "source": [
    "#Code by Datai https://www.kaggle.com/kanncaa1/applying-text-mining\n",
    "\n",
    "# stemming\n",
    "stemming_word_list = [\"baseball\",\"airplane\",\"restaurant\",\"drinking\",\"outdoors\"]\n",
    "porter_stemmer = nlp.PorterStemmer()\n",
    "roots = [porter_stemmer.stem(each) for each in stemming_word_list]\n",
    "print(\"result of stemming: \",roots)\n",
    "\n",
    "# lemmatization\n",
    "lemma = nlp.WordNetLemmatizer()\n",
    "lemma_roots = [lemma.lemmatize(each) for each in stemming_word_list]\n",
    "print(\"result of lemmatization: \",lemma_roots)"
   ]
  },
  {
   "cell_type": "markdown",
   "id": "suburban-ranking",
   "metadata": {
    "papermill": {
     "duration": 0.038749,
     "end_time": "2021-05-07T02:10:37.669901",
     "exception": false,
     "start_time": "2021-05-07T02:10:37.631152",
     "status": "completed"
    },
    "tags": []
   },
   "source": [
    "#Tokenization\n",
    "\n",
    "Splitting a sentence into words(tokens)"
   ]
  },
  {
   "cell_type": "code",
   "execution_count": 25,
   "id": "arctic-samoa",
   "metadata": {
    "execution": {
     "iopub.execute_input": "2021-05-07T02:10:37.754079Z",
     "iopub.status.busy": "2021-05-07T02:10:37.753393Z",
     "iopub.status.idle": "2021-05-07T02:10:37.770856Z",
     "shell.execute_reply": "2021-05-07T02:10:37.769866Z"
    },
    "papermill": {
     "duration": 0.062129,
     "end_time": "2021-05-07T02:10:37.771054",
     "exception": false,
     "start_time": "2021-05-07T02:10:37.708925",
     "status": "completed"
    },
    "tags": []
   },
   "outputs": [
    {
     "name": "stdout",
     "output_type": "stream",
     "text": [
      "split the sentence:  ['Two', 'groups', 'of', 'rival', 'gang', 'members', 'flipped', 'each', 'other', 'off.']\n",
      "tokenize with nltk:  ['Two', 'groups', 'of', 'rival', 'gang', 'members', 'flipped', 'each', 'other', 'off', '.']\n"
     ]
    }
   ],
   "source": [
    "#Code by Datai https://www.kaggle.com/kanncaa1/applying-text-mining\n",
    "\n",
    "text_t = \"Two groups of rival gang members flipped each other off.\"\n",
    "print(\"split the sentence: \", text_t.split(\" \"))  # 5 words\n",
    "\n",
    "# tokenization with nltk\n",
    "print(\"tokenize with nltk: \",nlp.word_tokenize(text_t))"
   ]
  },
  {
   "cell_type": "code",
   "execution_count": 26,
   "id": "white-adolescent",
   "metadata": {
    "execution": {
     "iopub.execute_input": "2021-05-07T02:10:37.860433Z",
     "iopub.status.busy": "2021-05-07T02:10:37.859485Z",
     "iopub.status.idle": "2021-05-07T02:10:37.935845Z",
     "shell.execute_reply": "2021-05-07T02:10:37.936673Z"
    },
    "papermill": {
     "duration": 0.119052,
     "end_time": "2021-05-07T02:10:37.936907",
     "exception": false,
     "start_time": "2021-05-07T02:10:37.817855",
     "status": "completed"
    },
    "tags": []
   },
   "outputs": [
    {
     "name": "stdout",
     "output_type": "stream",
     "text": [
      "['omelette']\n"
     ]
    }
   ],
   "source": [
    "# categorical features with missing values\n",
    "categorical_nan = [feature for feature in df.columns if df[feature].isna().sum()>0 and df[feature].dtypes=='O']\n",
    "print(categorical_nan)"
   ]
  },
  {
   "cell_type": "code",
   "execution_count": 27,
   "id": "enormous-jumping",
   "metadata": {
    "execution": {
     "iopub.execute_input": "2021-05-07T02:10:38.057001Z",
     "iopub.status.busy": "2021-05-07T02:10:38.055916Z",
     "iopub.status.idle": "2021-05-07T02:10:38.081520Z",
     "shell.execute_reply": "2021-05-07T02:10:38.080928Z"
    },
    "papermill": {
     "duration": 0.104669,
     "end_time": "2021-05-07T02:10:38.081674",
     "exception": false,
     "start_time": "2021-05-07T02:10:37.977005",
     "status": "completed"
    },
    "tags": []
   },
   "outputs": [],
   "source": [
    "# replacing missing values in categorical features\n",
    "for feature in categorical_nan:\n",
    "    df[feature] = df[feature].fillna('None')"
   ]
  },
  {
   "cell_type": "code",
   "execution_count": 28,
   "id": "drawn-taste",
   "metadata": {
    "execution": {
     "iopub.execute_input": "2021-05-07T02:10:38.167680Z",
     "iopub.status.busy": "2021-05-07T02:10:38.166704Z",
     "iopub.status.idle": "2021-05-07T02:10:38.217038Z",
     "shell.execute_reply": "2021-05-07T02:10:38.216423Z"
    },
    "papermill": {
     "duration": 0.095789,
     "end_time": "2021-05-07T02:10:38.217175",
     "exception": false,
     "start_time": "2021-05-07T02:10:38.121386",
     "status": "completed"
    },
    "tags": []
   },
   "outputs": [
    {
     "data": {
      "text/plain": [
       "omelette    0\n",
       "dtype: int64"
      ]
     },
     "execution_count": 28,
     "metadata": {},
     "output_type": "execute_result"
    }
   ],
   "source": [
    "df[categorical_nan].isna().sum()"
   ]
  },
  {
   "cell_type": "markdown",
   "id": "buried-joyce",
   "metadata": {
    "papermill": {
     "duration": 0.039626,
     "end_time": "2021-05-07T02:10:38.296988",
     "exception": false,
     "start_time": "2021-05-07T02:10:38.257362",
     "status": "completed"
    },
    "tags": []
   },
   "source": [
    "![](https://lh3.googleusercontent.com/proxy/yYlC3n6FpIzN6mD8ARFVHdA95sUL1t7Ry9klJivqXwfxfh0OpPxPWNJjCJ0sYaf9ObDrzKIyt4qp5LTVpYt6BA_N34iizT1lWJJSRcxbDY6QE4YvilzU4t2W63ZZgAgl_P1qKEFvcZIBlypF74PyMuGAtAShV8vIgOV22Q)m.quickmeme.com"
   ]
  },
  {
   "cell_type": "code",
   "execution_count": 29,
   "id": "known-communications",
   "metadata": {
    "_kg_hide-output": true,
    "execution": {
     "iopub.execute_input": "2021-05-07T02:10:38.411769Z",
     "iopub.status.busy": "2021-05-07T02:10:38.401404Z",
     "iopub.status.idle": "2021-05-07T02:10:42.738686Z",
     "shell.execute_reply": "2021-05-07T02:10:42.737865Z"
    },
    "papermill": {
     "duration": 4.40133,
     "end_time": "2021-05-07T02:10:42.738879",
     "exception": false,
     "start_time": "2021-05-07T02:10:38.337549",
     "status": "completed"
    },
    "tags": []
   },
   "outputs": [
    {
     "name": "stdout",
     "output_type": "stream",
     "text": [
      "Most used 150 words: ['air', 'animal', 'asleep', 'baby', 'ball', 'band', 'baseball', 'basketball', 'beach', 'bed', 'bench', 'bike', 'black', 'blue', 'boat', 'boy', 'boys', 'brown', 'building', 'bus', 'camera', 'car', 'carrying', 'cat', 'child', 'children', 'city', 'climbing', 'clothes', 'couch', 'couple', 'crowd', 'dancing', 'dog', 'dogs', 'doing', 'dress', 'dressed', 'drinking', 'driving', 'eating', 'female', 'field', 'food', 'football', 'game', 'getting', 'girl', 'girls', 'going', 'grass', 'green', 'ground', 'group', 'guitar', 'guy', 'guys', 'hair', 'hands', 'hat', 'having', 'holding', 'holds', 'home', 'horse', 'house', 'human', 'indoors', 'inside', 'jacket', 'jumping', 'jumps', 'kid', 'kids', 'lady', 'lake', 'large', 'laying', 'little', 'looking', 'looks', 'making', 'man', 'men', 'music', 'near', 'ocean', 'old', 'outdoors', 'outside', 'park', 'people', 'performing', 'person', 'picture', 'play', 'player', 'players', 'playing', 'plays', 'pool', 'race', 'reading', 'red', 'restaurant', 'rides', 'riding', 'road', 'room', 'running', 'runs', 'shirt', 'sidewalk', 'sit', 'sits', 'sitting', 'sleeping', 'small', 'snow', 'soccer', 'stage', 'stand', 'standing', 'stands', 'store', 'street', 'swimming', 'table', 'taking', 'talking', 'train', 'tree', 'tv', 'using', 'waiting', 'walk', 'walking', 'walks', 'wall', 'watching', 'water', 'wearing', 'white', 'woman', 'women', 'work', 'workers', 'working', 'yellow', 'young']\n"
     ]
    }
   ],
   "source": [
    "#https://scikit-learn.org/stable/modules/generated/sklearn.feature_extraction.text.CountVectorizer.html\n",
    "\n",
    "# %% creating bag of words model\n",
    "from sklearn.feature_extraction.text import CountVectorizer  # for bag of words \n",
    "max_features = 150 # max_features dimension reduction \n",
    "count_vectorizer = CountVectorizer(stop_words = \"english\",max_features = max_features) \n",
    "review_list = df.iloc[:,1] #fixed by Billa comment @skbilla\n",
    "\n",
    "# stop_words parameter = automatically remove all stopwords \n",
    "# lowercase parameter \n",
    "# token_pattern removing other karakters like .. !\n",
    "\n",
    "sparce_matrix = count_vectorizer.fit_transform(review_list).toarray() # sparce matrix yaratir bag of words model = sparce matrix\n",
    "\n",
    "print(\"Most used {} words: {}\".format(max_features,count_vectorizer.get_feature_names()))\n",
    "\n",
    "y = df.iloc[:,0].values  # positive or negative comment\n",
    "\n",
    "#sparce matrix includes independent variable"
   ]
  },
  {
   "cell_type": "code",
   "execution_count": 30,
   "id": "forward-cincinnati",
   "metadata": {
    "execution": {
     "iopub.execute_input": "2021-05-07T02:10:42.827317Z",
     "iopub.status.busy": "2021-05-07T02:10:42.826679Z",
     "iopub.status.idle": "2021-05-07T02:10:43.219443Z",
     "shell.execute_reply": "2021-05-07T02:10:43.218771Z"
    },
    "papermill": {
     "duration": 0.438837,
     "end_time": "2021-05-07T02:10:43.219581",
     "exception": false,
     "start_time": "2021-05-07T02:10:42.780744",
     "status": "completed"
    },
    "tags": []
   },
   "outputs": [],
   "source": [
    "# train test split\n",
    "from sklearn.model_selection import train_test_split\n",
    "\n",
    "x_train, x_test, y_train, y_test = train_test_split(sparce_matrix,y,test_size = 0.1,random_state = 0)"
   ]
  },
  {
   "cell_type": "code",
   "execution_count": 31,
   "id": "binary-essence",
   "metadata": {
    "execution": {
     "iopub.execute_input": "2021-05-07T02:10:43.305188Z",
     "iopub.status.busy": "2021-05-07T02:10:43.304245Z",
     "iopub.status.idle": "2021-05-07T03:10:25.371114Z",
     "shell.execute_reply": "2021-05-07T03:10:25.371641Z"
    },
    "papermill": {
     "duration": 3582.112012,
     "end_time": "2021-05-07T03:10:25.371845",
     "exception": false,
     "start_time": "2021-05-07T02:10:43.259833",
     "status": "completed"
    },
    "tags": []
   },
   "outputs": [
    {
     "data": {
      "text/plain": [
       "GaussianNB()"
      ]
     },
     "execution_count": 31,
     "metadata": {},
     "output_type": "execute_result"
    }
   ],
   "source": [
    "#That snippet take hours to provide GaussianNB ()??? . \n",
    "\n",
    "# %% naive bayes\n",
    "from sklearn.naive_bayes import GaussianNB\n",
    "nb = GaussianNB()\n",
    "nb.fit(sparce_matrix,y)"
   ]
  },
  {
   "cell_type": "code",
   "execution_count": 32,
   "id": "unable-pregnancy",
   "metadata": {
    "_kg_hide-output": true,
    "execution": {
     "iopub.execute_input": "2021-05-07T03:10:25.457180Z",
     "iopub.status.busy": "2021-05-07T03:10:25.456528Z",
     "iopub.status.idle": "2021-05-07T03:10:25.460306Z",
     "shell.execute_reply": "2021-05-07T03:10:25.460755Z"
    },
    "papermill": {
     "duration": 0.047957,
     "end_time": "2021-05-07T03:10:25.460923",
     "exception": false,
     "start_time": "2021-05-07T03:10:25.412966",
     "status": "completed"
    },
    "tags": []
   },
   "outputs": [],
   "source": [
    "#Another that spend too much time. Predict if I'm going to wait that. It's a retorical question.\n",
    "#And worst: My Notebook failed after that!\n",
    "\n",
    "# %% predict\n",
    "#y_pred = nb.predict(sparce_matrix)"
   ]
  },
  {
   "cell_type": "code",
   "execution_count": 33,
   "id": "painted-marking",
   "metadata": {
    "_kg_hide-output": true,
    "execution": {
     "iopub.execute_input": "2021-05-07T03:10:25.547733Z",
     "iopub.status.busy": "2021-05-07T03:10:25.546920Z",
     "iopub.status.idle": "2021-05-07T03:10:25.549842Z",
     "shell.execute_reply": "2021-05-07T03:10:25.549200Z"
    },
    "papermill": {
     "duration": 0.048148,
     "end_time": "2021-05-07T03:10:25.549983",
     "exception": false,
     "start_time": "2021-05-07T03:10:25.501835",
     "status": "completed"
    },
    "tags": []
   },
   "outputs": [],
   "source": [
    "#%%\n",
    "from sklearn.metrics import confusion_matrix\n",
    "#cm = confusion_matrix(y,y_pred)\n",
    "#cm"
   ]
  },
  {
   "cell_type": "code",
   "execution_count": 34,
   "id": "becoming-induction",
   "metadata": {
    "_kg_hide-output": true,
    "execution": {
     "iopub.execute_input": "2021-05-07T03:10:25.663186Z",
     "iopub.status.busy": "2021-05-07T03:10:25.646698Z",
     "iopub.status.idle": "2021-05-07T03:10:25.884680Z",
     "shell.execute_reply": "2021-05-07T03:10:25.883999Z"
    },
    "papermill": {
     "duration": 0.293167,
     "end_time": "2021-05-07T03:10:25.884824",
     "exception": false,
     "start_time": "2021-05-07T03:10:25.591657",
     "status": "completed"
    },
    "tags": []
   },
   "outputs": [
    {
     "ename": "NameError",
     "evalue": "name 'cm' is not defined",
     "output_type": "error",
     "traceback": [
      "\u001b[0;31m---------------------------------------------------------------------------\u001b[0m",
      "\u001b[0;31mNameError\u001b[0m                                 Traceback (most recent call last)",
      "\u001b[0;32m<ipython-input-34-cec89caae06e>\u001b[0m in \u001b[0;36m<module>\u001b[0;34m\u001b[0m\n\u001b[1;32m      4\u001b[0m \u001b[0;32mimport\u001b[0m \u001b[0mseaborn\u001b[0m \u001b[0;32mas\u001b[0m \u001b[0msns\u001b[0m\u001b[0;34m\u001b[0m\u001b[0;34m\u001b[0m\u001b[0m\n\u001b[1;32m      5\u001b[0m \u001b[0mf\u001b[0m\u001b[0;34m,\u001b[0m\u001b[0max\u001b[0m \u001b[0;34m=\u001b[0m \u001b[0mplt\u001b[0m\u001b[0;34m.\u001b[0m\u001b[0msubplots\u001b[0m\u001b[0;34m(\u001b[0m\u001b[0mfigsize\u001b[0m\u001b[0;34m=\u001b[0m\u001b[0;34m(\u001b[0m\u001b[0;36m5\u001b[0m\u001b[0;34m,\u001b[0m \u001b[0;36m5\u001b[0m\u001b[0;34m)\u001b[0m\u001b[0;34m)\u001b[0m\u001b[0;34m\u001b[0m\u001b[0;34m\u001b[0m\u001b[0m\n\u001b[0;32m----> 6\u001b[0;31m \u001b[0msns\u001b[0m\u001b[0;34m.\u001b[0m\u001b[0mheatmap\u001b[0m\u001b[0;34m(\u001b[0m\u001b[0mcm\u001b[0m\u001b[0;34m,\u001b[0m \u001b[0mannot\u001b[0m\u001b[0;34m=\u001b[0m\u001b[0;32mTrue\u001b[0m\u001b[0;34m,\u001b[0m \u001b[0mlinewidths\u001b[0m\u001b[0;34m=\u001b[0m\u001b[0;36m0.5\u001b[0m\u001b[0;34m,\u001b[0m\u001b[0mlinecolor\u001b[0m\u001b[0;34m=\u001b[0m\u001b[0;34m\"red\"\u001b[0m\u001b[0;34m,\u001b[0m \u001b[0mfmt\u001b[0m\u001b[0;34m=\u001b[0m \u001b[0;34m'.1f'\u001b[0m\u001b[0;34m,\u001b[0m\u001b[0max\u001b[0m\u001b[0;34m=\u001b[0m\u001b[0max\u001b[0m\u001b[0;34m)\u001b[0m\u001b[0;34m\u001b[0m\u001b[0;34m\u001b[0m\u001b[0m\n\u001b[0m\u001b[1;32m      7\u001b[0m \u001b[0mplt\u001b[0m\u001b[0;34m.\u001b[0m\u001b[0mshow\u001b[0m\u001b[0;34m(\u001b[0m\u001b[0;34m)\u001b[0m\u001b[0;34m\u001b[0m\u001b[0;34m\u001b[0m\u001b[0m\n\u001b[1;32m      8\u001b[0m \u001b[0mplt\u001b[0m\u001b[0;34m.\u001b[0m\u001b[0msavefig\u001b[0m\u001b[0;34m(\u001b[0m\u001b[0;34m'graph.png'\u001b[0m\u001b[0;34m)\u001b[0m\u001b[0;34m\u001b[0m\u001b[0;34m\u001b[0m\u001b[0m\n",
      "\u001b[0;31mNameError\u001b[0m: name 'cm' is not defined"
     ]
    },
    {
     "data": {
      "image/png": "[encoded data removed]",
      "text/plain": [
       "<Figure size 360x360 with 1 Axes>"
      ]
     },
     "metadata": {
      "needs_background": "light"
     },
     "output_type": "display_data"
    }
   ],
   "source": [
    "#Code by Datai https://www.kaggle.com/kanncaa1/applying-text-mining\n",
    "\n",
    "import matplotlib.pyplot as plt\n",
    "import seaborn as sns\n",
    "f,ax = plt.subplots(figsize=(5, 5))\n",
    "sns.heatmap(cm, annot=True, linewidths=0.5,linecolor=\"red\", fmt= '.1f',ax=ax)\n",
    "plt.show()\n",
    "plt.savefig('graph.png')"
   ]
  },
  {
   "cell_type": "code",
   "execution_count": 35,
   "id": "prompt-single",
   "metadata": {
    "_kg_hide-input": true,
    "execution": {
     "iopub.execute_input": "2021-05-07T03:10:25.975631Z",
     "iopub.status.busy": "2021-05-07T03:10:25.974941Z",
     "iopub.status.idle": "2021-05-07T03:10:25.985697Z",
     "shell.execute_reply": "2021-05-07T03:10:25.985159Z"
    },
    "papermill": {
     "duration": 0.058268,
     "end_time": "2021-05-07T03:10:25.985853",
     "exception": false,
     "start_time": "2021-05-07T03:10:25.927585",
     "status": "completed"
    },
    "tags": []
   },
   "outputs": [
    {
     "name": "stdout",
     "output_type": "stream",
     "text": [
      "A person on a horse jumps over a broken down airplane.\tA person is at a diner, ordering an omelette.\t0\n",
      "A person on a horse jumps over a broken down airplane.\tA person is outdoors, on a horse.\t1\n",
      "Children smiling and waving at camera\tThere are children present\t1\n",
      "Children smiling and waving at camera\tThe kids are frowning\t0\n",
      "A boy is jumping on skateboard in the middle of a red bridge.\tThe boy skates down the sidewalk.\t0\n",
      "A boy is jumping on skateboard in the middle of a red bridge.\tThe boy does a skateboarding trick.\t1\n",
      "An older man sits with his orange juice at a small table in a coffee shop while employees in bright colored shirts smile in the background.\tA boy flips a burger.\t0\n",
      "Two blond women are hugging one another.\tThe women are sleeping.\t0\n",
      "Two blond women are hugging one another.\tThere are women showing affection.\t1\n",
      "A few people in a restaurant setting, one of them is drinking orange juice.\tThe people are sitting at desks in school.\t0\n",
      "A few people in a restaurant setting, one of them is drinking orange juice.\tThe diners are at a restaurant.\t1\n",
      "An older man is drinking orange juice at a restaurant.\tA man is drinking juice.\t1\n",
      "An older man is drinking orange juice at a restaurant.\tTwo women are at a restaurant drinking wine.\t0\n",
      "A man with blond-hair, and a brown shirt drinking out of a public water fountain.\tA blond man wearing a brown shirt is reading a book on a bench in the park\t0\n",
      "A man with blond-hair, and a brown shirt drinking out of a public water fountain.\tA blond man drinking water from a fountain.\t1\n",
      "Two women who just had lunch hugging and saying goodbye.\tThe friends scowl at each other over a full dinner table.\t0\n",
      "Two women who just had lunch hugging and saying goodbye.\tThere are two woman in this picture.\t1\n",
      "Two women, holding food carryout containers, hug.\tTwo groups of rival gang members flipped each other off.\t0\n",
      "Two women, holding food carryout containers, hug.\tTwo women hug each other.\t1\n",
      "A Little League team tries to catch a runner sliding into a base in an afternoon game.\tA team is trying to tag a runner out.\t1\n",
      "A Little League team tries to catch a runner sliding into a base in an afternoon game.\tA team is playing baseball on Saturn.\t0\n",
      "The school is having a special event in order to show the american culture on how other cultures are dealt with in parties.\tA school hosts a basketball game.\t0\n",
      "The school is having a special event in order to show the american culture on how other cultures are dealt with in parties.\tA school is hosting an event.\t1\n",
      "High fashion ladies wait outside a tram beside a crowd of people in the city.\tThe women do not care what clothes they wear.\t0\n",
      "High fashion ladies wait outside a tram beside a crowd of people in the city.\tWomen are waiting by a tram.\t1\n",
      "A man, woman, and child enjoying themselves on a beach.\tA family of three is at the beach.\t1\n",
      "A man, woman, and child enjoying themselves on a beach.\tA family of three is at the mall shopping.\t0\n",
      "People waiting to get on a train or just getting off.\tThere are peopl\n"
     ]
    }
   ],
   "source": [
    "#Code By Paul Mooney\n",
    "\n",
    "plagiarism_file = '../input/mit-plagairism-detection-dataset/train_snli.txt'\n",
    "with open(plagiarism_file) as f: # The with keyword automatically closes the file when you are done\n",
    "    print (f.read(3000))"
   ]
  }
 ],
 "metadata": {
  "kernelspec": {
   "display_name": "Python 3 (ipykernel)",
   "language": "python",
   "name": "python3"
  },
  "language_info": {
   "codemirror_mode": {
    "name": "ipython",
    "version": 3
   },
   "file_extension": ".py",
   "mimetype": "text/x-python",
   "name": "python",
   "nbconvert_exporter": "python",
   "pygments_lexer": "ipython3",
   "version": "3.11.7"
  },
  "papermill": {
   "default_parameters": {},
   "duration": 3610.954962,
   "end_time": "2021-05-07T03:10:27.616227",
   "environment_variables": {},
   "exception": null,
   "input_path": "__notebook__.ipynb",
   "output_path": "__notebook__.ipynb",
   "parameters": {},
   "start_time": "2021-05-07T02:10:16.661265",
   "version": "2.3.3"
  }
 },
 "nbformat": 4,
 "nbformat_minor": 5
}
